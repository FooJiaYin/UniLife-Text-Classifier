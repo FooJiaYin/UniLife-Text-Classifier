{
  "nbformat": 4,
  "nbformat_minor": 0,
  "metadata": {
    "colab": {
      "name": "BERT.ipynb",
      "provenance": [],
      "collapsed_sections": [],
      "machine_shape": "hm",
      "include_colab_link": true
    },
    "kernelspec": {
      "name": "python3",
      "display_name": "Python 3"
    },
    "language_info": {
      "name": "python"
    },
    "accelerator": "GPU"
  },
  "cells": [
    {
      "cell_type": "markdown",
      "metadata": {
        "id": "view-in-github",
        "colab_type": "text"
      },
      "source": [
        "<a href=\"https://colab.research.google.com/github/enjuichang/Unify-NPL-Classifier/blob/main/Model_training.ipynb\" target=\"_parent\"><img src=\"https://colab.research.google.com/assets/colab-badge.svg\" alt=\"Open In Colab\"/></a>"
      ]
    },
    {
      "cell_type": "code",
      "metadata": {
        "id": "TCsZB1gDLbun",
        "colab": {
          "base_uri": "https://localhost:8080/"
        },
        "outputId": "219dbe0d-d767-4320-e540-977df365816e"
      },
      "source": [
        "from google.colab import drive\n",
        "drive.mount('/content/drive')"
      ],
      "execution_count": null,
      "outputs": [
        {
          "output_type": "stream",
          "name": "stdout",
          "text": [
            "Mounted at /content/drive\n"
          ]
        }
      ]
    },
    {
      "cell_type": "code",
      "metadata": {
        "id": "VxwFd4KQg_r8"
      },
      "source": [
        "try: \n",
        "  import kashgari\n",
        "except AttributeError:\n",
        "  !pip install 'numpy' --upgrade\n",
        "except ImportError:\n",
        "  !pip install 'kashgari>=2.0.2'\n",
        "  !pip install 'tensorflow==2.2'\n",
        "  !pip install tensorflow_addons==0.11.2"
      ],
      "execution_count": null,
      "outputs": []
    },
    {
      "cell_type": "code",
      "metadata": {
        "id": "7fnov30fj0G7"
      },
      "source": [
        "# Import pydrive packages\n",
        "import os\n",
        "from pydrive.auth import GoogleAuth\n",
        "from pydrive.drive import GoogleDrive\n",
        "from google.colab import auth\n",
        "from oauth2client.client import GoogleCredentials"
      ],
      "execution_count": null,
      "outputs": []
    },
    {
      "cell_type": "code",
      "metadata": {
        "id": "mwm_X7lVf2WX"
      },
      "source": [
        "# Import pacakges\n",
        "import kashgari\n",
        "from kashgari.tasks.classification import BiGRU_Model\n",
        "from sklearn.model_selection import train_test_split\n",
        "import matplotlib.pyplot as plt\n",
        "import pandas as pd\n",
        "from kashgari.embeddings import BertEmbedding\n"
      ],
      "execution_count": null,
      "outputs": []
    },
    {
      "cell_type": "code",
      "metadata": {
        "id": "HjVnwLcjj8Nr"
      },
      "source": [
        "# 1. Authenticate and create the PyDrive client.\n",
        "auth.authenticate_user()\n",
        "gauth = GoogleAuth()\n",
        "gauth.credentials = GoogleCredentials.get_application_default()\n",
        "drive = GoogleDrive(gauth)\n",
        "\n",
        "# choose a local (colab) directory to store the data.\n",
        "local_download_path = os.path.expanduser('~/data')\n",
        "try:\n",
        "  os.makedirs(local_download_path)\n",
        "except: pass\n",
        "\n",
        "# 2. Auto-iterate using the query syntax\n",
        "#    https://developers.google.com/drive/v2/web/search-parameters\n",
        "file_list = drive.ListFile(\n",
        "    {'q': \"'1hwP6h6tQQUrOT2zBoVJPDtBt46czXaZH' in parents\"}).GetList()"
      ],
      "execution_count": null,
      "outputs": []
    },
    {
      "cell_type": "code",
      "metadata": {
        "id": "22p-dntG6Q68",
        "colab": {
          "base_uri": "https://localhost:8080/"
        },
        "outputId": "a048b5c2-73dc-454e-deea-a552fbc4856c"
      },
      "source": [
        "fname_ls = []\n",
        "for f in file_list:\n",
        "  # 3. Create & download by id.\n",
        "  print('title: %s, id: %s' % (f['title'], f['id']))\n",
        "  fname = os.path.join(local_download_path, f['title'])\n",
        "  print('downloading to {}'.format(fname))\n",
        "  f_ = drive.CreateFile({'id': f['id']})\n",
        "  f_.GetContentFile(fname)\n",
        "  fname_ls.append(fname)"
      ],
      "execution_count": null,
      "outputs": [
        {
          "output_type": "stream",
          "name": "stdout",
          "text": [
            "title: dcard.csv, id: 1yQdJeNNxQInM2SygcMQQA0XEcbqQU9O4\n",
            "downloading to /root/data/dcard.csv\n",
            "title: THUC100.csv, id: 1qcv2LQ2M-UY44t_G4n1ye_-HBeNRkmGV\n",
            "downloading to /root/data/THUC100.csv\n",
            "title: toutiao.csv, id: 1-72sHjtvpvvE_cdqNihovJihfODQcYwb\n",
            "downloading to /root/data/toutiao.csv\n",
            "title: THUC.csv, id: 1EqgAaO0ECCCmihP6Hta4CPt5qlFEXsd0\n",
            "downloading to /root/data/THUC.csv\n",
            "title: 新聞-類別配對.csv, id: 1SPfUN_OLDmFQFkiTqszRuNoOP_74Ulp4\n",
            "downloading to /root/data/新聞-類別配對.csv\n"
          ]
        }
      ]
    },
    {
      "cell_type": "code",
      "metadata": {
        "id": "cddCXpRghHpK"
      },
      "source": [
        "# Import all data\n",
        "# Import toutiao\n",
        "toutiao = pd.read_csv(fname_ls[2], usecols = [\"id\",\"content\"])\n",
        "# Import THUC\n",
        "THUC = pd.read_csv(fname_ls[1], usecols = [\"id\",\"content\"])\n",
        "# Import RSS\n",
        "RSS = pd.read_csv(fname_ls[4], usecols = [\"label\",\"title_plus_summary\"])\n",
        "RSS.columns = [\"id\",\"content\"]\n",
        "# Import Dcard\n",
        "dcard = pd.read_csv(fname_ls[0], usecols = [\"id\",\"content\"])\n",
        "\n"
      ],
      "execution_count": null,
      "outputs": []
    },
    {
      "cell_type": "code",
      "metadata": {
        "id": "zctpqMCh623x",
        "colab": {
          "base_uri": "https://localhost:8080/"
        },
        "outputId": "87aaac1a-bb4f-43eb-d9e5-7890058b6dca"
      },
      "source": [
        "RSS[\"id\"].unique()\n",
        "RSS['id'] = RSS['id'].str.replace('政治', '時事')\n",
        "RSS['id'] = RSS['id'].str.replace('社會', '時事')\n",
        "RSS['id'] = RSS['id'].str.replace('生活', '生活')\n",
        "RSS['id'] = RSS['id'].str.replace('娛樂', '娛樂')\n",
        "RSS['id'] = RSS['id'].str.replace('國際', '時事')\n",
        "RSS['id'] = RSS['id'].str.replace('財經', '財經')\n",
        "RSS['id'] = RSS['id'].str.replace('體育', '運動')\n",
        "RSS['id'] = RSS['id'].str.replace('蒐奇', '生活')\n",
        "\n",
        "tagID_ls = [\"運動\",\"藝文\",\"職場\",\"議題\",\"生活\",\"教育\",\"科技\",\"情感\",\"時事\",\"成長\",\"財經\",\"ACG\",\"娛樂\"]\n",
        "RSS=RSS.loc[RSS['id'].isin(tagID_ls)]\n",
        "RSS[\"id\"].unique()"
      ],
      "execution_count": null,
      "outputs": [
        {
          "output_type": "execute_result",
          "data": {
            "text/plain": [
              "array(['時事', '生活', '娛樂', '財經', '運動'], dtype=object)"
            ]
          },
          "metadata": {},
          "execution_count": 9
        }
      ]
    },
    {
      "cell_type": "code",
      "metadata": {
        "id": "qBorlOXOZGTj",
        "colab": {
          "base_uri": "https://localhost:8080/"
        },
        "outputId": "aa261084-3f50-4d71-bf36-77a9470300bb"
      },
      "source": [
        "total = toutiao.append(RSS).append(THUC).append(dcard)\n",
        "total[\"content\"] = total[\"content\"]\n",
        "total[\"id\"].unique()"
      ],
      "execution_count": null,
      "outputs": [
        {
          "output_type": "execute_result",
          "data": {
            "text/plain": [
              "array(['娛樂', '運動', '財經', '教育', '科技', '生活', '時事', 'ACG', '藝文', '職場', '議題',\n",
              "       '情感'], dtype=object)"
            ]
          },
          "metadata": {},
          "execution_count": 10
        }
      ]
    },
    {
      "cell_type": "code",
      "metadata": {
        "id": "m1PO4Gs9Bg6x"
      },
      "source": [
        "X = total['content'].astype(str,errors=\"ignore\")\n",
        "X = X.apply(lambda text: list(text)).to_list()\n",
        "y = total['id'].astype(str,errors=\"ignore\").to_list()"
      ],
      "execution_count": null,
      "outputs": []
    },
    {
      "cell_type": "code",
      "metadata": {
        "id": "JDLMcg3HiGR5"
      },
      "source": [
        "# Separate into train/test/validation\n",
        "X_train, X_test, y_train, y_test = train_test_split(X, y, test_size=0.2, shuffle = True, stratify = y)\n",
        "\n",
        "X_train, X_val, y_train, y_val = train_test_split(X_train, y_train, test_size=0.25, shuffle = True, stratify = y_train) # 0.25 x 0.8 = 0.2"
      ],
      "execution_count": null,
      "outputs": []
    },
    {
      "cell_type": "code",
      "metadata": {
        "id": "fERc9_HEinm1",
        "colab": {
          "base_uri": "https://localhost:8080/",
          "height": 1000
        },
        "outputId": "2050d716-f7e4-4fd1-97f8-b06c8fcbe40e"
      },
      "source": [
        "# BERT Model\n",
        "bert_embed = BertEmbedding('/content/drive/MyDrive/08文章辨識資料/Model/BERT')\n",
        "bert_model = BiGRU_Model(bert_embed, sequence_length=100, multi_label=False)\n",
        "\n",
        "# Train the model\n",
        "bert_model_history = bert_model.fit(X_train, y_train, X_val, y_val, epochs= 5)\n",
        "\n",
        "# Save model\n",
        "bert_model.save('/content/drive/MyDrive/08文章辨識資料/Model/bert_model_ver4')"
      ],
      "execution_count": null,
      "outputs": [
        {
          "output_type": "stream",
          "name": "stderr",
          "text": [
            "2021-09-18 11:24:14,794 [DEBUG] kashgari - ------------------------------------------------\n",
            "2021-09-18 11:24:14,796 [DEBUG] kashgari - Loaded transformer model's vocab\n",
            "2021-09-18 11:24:14,797 [DEBUG] kashgari - config_path       : /content/drive/MyDrive/08文章辨識資料/Model/BERT/bert_config.json\n",
            "2021-09-18 11:24:14,799 [DEBUG] kashgari - vocab_path      : /content/drive/MyDrive/08文章辨識資料/Model/BERT/vocab.txt\n",
            "2021-09-18 11:24:14,801 [DEBUG] kashgari - checkpoint_path : /content/drive/MyDrive/08文章辨識資料/Model/BERT/bert_model.ckpt\n",
            "2021-09-18 11:24:14,802 [DEBUG] kashgari - Top 50 words    : ['[PAD]', '[unused1]', '[unused2]', '[unused3]', '[unused4]', '[unused5]', '[unused6]', '[unused7]', '[unused8]', '[unused9]', '[unused10]', '[unused11]', '[unused12]', '[unused13]', '[unused14]', '[unused15]', '[unused16]', '[unused17]', '[unused18]', '[unused19]', '[unused20]', '[unused21]', '[unused22]', '[unused23]', '[unused24]', '[unused25]', '[unused26]', '[unused27]', '[unused28]', '[unused29]', '[unused30]', '[unused31]', '[unused32]', '[unused33]', '[unused34]', '[unused35]', '[unused36]', '[unused37]', '[unused38]', '[unused39]', '[unused40]', '[unused41]', '[unused42]', '[unused43]', '[unused44]', '[unused45]', '[unused46]', '[unused47]', '[unused48]', '[unused49]']\n",
            "2021-09-18 11:24:14,804 [DEBUG] kashgari - ------------------------------------------------\n",
            "Preparing text vocab dict: 100%|██████████| 163278/163278 [00:03<00:00, 50901.09it/s]\n",
            "Preparing text vocab dict: 100%|██████████| 54427/54427 [00:01<00:00, 50365.26it/s]\n",
            "2021-09-18 11:24:19,123 [DEBUG] kashgari - --- Build vocab dict finished, Total: 7219 ---\n",
            "2021-09-18 11:24:19,124 [DEBUG] kashgari - Top-10: ['[PAD]', '[UNK]', '[CLS]', '[SEP]', ',', ' ', '，', '的', '？', '一']\n",
            "Preparing classification label vocab dict: 100%|██████████| 163278/163278 [00:00<00:00, 962677.99it/s]\n",
            "Preparing classification label vocab dict: 100%|██████████| 54427/54427 [00:00<00:00, 934090.80it/s]\n",
            "2021-09-18 11:24:41,654 [DEBUG] kashgari - Model: \"model_1\"\n",
            "__________________________________________________________________________________________________\n",
            "Layer (type)                    Output Shape         Param #     Connected to                     \n",
            "==================================================================================================\n",
            "Input-Token (InputLayer)        [(None, None)]       0                                            \n",
            "__________________________________________________________________________________________________\n",
            "Input-Segment (InputLayer)      [(None, None)]       0                                            \n",
            "__________________________________________________________________________________________________\n",
            "Embedding-Token (Embedding)     (None, None, 768)    16226304    Input-Token[0][0]                \n",
            "__________________________________________________________________________________________________\n",
            "Embedding-Segment (Embedding)   (None, None, 768)    1536        Input-Segment[0][0]              \n",
            "__________________________________________________________________________________________________\n",
            "Embedding-Token-Segment (Add)   (None, None, 768)    0           Embedding-Token[0][0]            \n",
            "                                                                 Embedding-Segment[0][0]          \n",
            "__________________________________________________________________________________________________\n",
            "Embedding-Position (PositionEmb (None, None, 768)    393216      Embedding-Token-Segment[0][0]    \n",
            "__________________________________________________________________________________________________\n",
            "Embedding-Norm (LayerNormalizat (None, None, 768)    1536        Embedding-Position[0][0]         \n",
            "__________________________________________________________________________________________________\n",
            "Embedding-Dropout (Dropout)     (None, None, 768)    0           Embedding-Norm[0][0]             \n",
            "__________________________________________________________________________________________________\n",
            "Transformer-0-MultiHeadSelfAtte (None, None, 768)    2362368     Embedding-Dropout[0][0]          \n",
            "                                                                 Embedding-Dropout[0][0]          \n",
            "                                                                 Embedding-Dropout[0][0]          \n",
            "__________________________________________________________________________________________________\n",
            "Transformer-0-MultiHeadSelfAtte (None, None, 768)    0           Transformer-0-MultiHeadSelfAttent\n",
            "__________________________________________________________________________________________________\n",
            "Transformer-0-MultiHeadSelfAtte (None, None, 768)    0           Embedding-Dropout[0][0]          \n",
            "                                                                 Transformer-0-MultiHeadSelfAttent\n",
            "__________________________________________________________________________________________________\n",
            "Transformer-0-MultiHeadSelfAtte (None, None, 768)    1536        Transformer-0-MultiHeadSelfAttent\n",
            "__________________________________________________________________________________________________\n",
            "Transformer-0-FeedForward (Feed (None, None, 768)    4722432     Transformer-0-MultiHeadSelfAttent\n",
            "__________________________________________________________________________________________________\n",
            "Transformer-0-FeedForward-Dropo (None, None, 768)    0           Transformer-0-FeedForward[0][0]  \n",
            "__________________________________________________________________________________________________\n",
            "Transformer-0-FeedForward-Add ( (None, None, 768)    0           Transformer-0-MultiHeadSelfAttent\n",
            "                                                                 Transformer-0-FeedForward-Dropout\n",
            "__________________________________________________________________________________________________\n",
            "Transformer-0-FeedForward-Norm  (None, None, 768)    1536        Transformer-0-FeedForward-Add[0][\n",
            "__________________________________________________________________________________________________\n",
            "Transformer-1-MultiHeadSelfAtte (None, None, 768)    2362368     Transformer-0-FeedForward-Norm[0]\n",
            "                                                                 Transformer-0-FeedForward-Norm[0]\n",
            "                                                                 Transformer-0-FeedForward-Norm[0]\n",
            "__________________________________________________________________________________________________\n",
            "Transformer-1-MultiHeadSelfAtte (None, None, 768)    0           Transformer-1-MultiHeadSelfAttent\n",
            "__________________________________________________________________________________________________\n",
            "Transformer-1-MultiHeadSelfAtte (None, None, 768)    0           Transformer-0-FeedForward-Norm[0]\n",
            "                                                                 Transformer-1-MultiHeadSelfAttent\n",
            "__________________________________________________________________________________________________\n",
            "Transformer-1-MultiHeadSelfAtte (None, None, 768)    1536        Transformer-1-MultiHeadSelfAttent\n",
            "__________________________________________________________________________________________________\n",
            "Transformer-1-FeedForward (Feed (None, None, 768)    4722432     Transformer-1-MultiHeadSelfAttent\n",
            "__________________________________________________________________________________________________\n",
            "Transformer-1-FeedForward-Dropo (None, None, 768)    0           Transformer-1-FeedForward[0][0]  \n",
            "__________________________________________________________________________________________________\n",
            "Transformer-1-FeedForward-Add ( (None, None, 768)    0           Transformer-1-MultiHeadSelfAttent\n",
            "                                                                 Transformer-1-FeedForward-Dropout\n",
            "__________________________________________________________________________________________________\n",
            "Transformer-1-FeedForward-Norm  (None, None, 768)    1536        Transformer-1-FeedForward-Add[0][\n",
            "__________________________________________________________________________________________________\n",
            "Transformer-2-MultiHeadSelfAtte (None, None, 768)    2362368     Transformer-1-FeedForward-Norm[0]\n",
            "                                                                 Transformer-1-FeedForward-Norm[0]\n",
            "                                                                 Transformer-1-FeedForward-Norm[0]\n",
            "__________________________________________________________________________________________________\n",
            "Transformer-2-MultiHeadSelfAtte (None, None, 768)    0           Transformer-2-MultiHeadSelfAttent\n",
            "__________________________________________________________________________________________________\n",
            "Transformer-2-MultiHeadSelfAtte (None, None, 768)    0           Transformer-1-FeedForward-Norm[0]\n",
            "                                                                 Transformer-2-MultiHeadSelfAttent\n",
            "__________________________________________________________________________________________________\n",
            "Transformer-2-MultiHeadSelfAtte (None, None, 768)    1536        Transformer-2-MultiHeadSelfAttent\n",
            "__________________________________________________________________________________________________\n",
            "Transformer-2-FeedForward (Feed (None, None, 768)    4722432     Transformer-2-MultiHeadSelfAttent\n",
            "__________________________________________________________________________________________________\n",
            "Transformer-2-FeedForward-Dropo (None, None, 768)    0           Transformer-2-FeedForward[0][0]  \n",
            "__________________________________________________________________________________________________\n",
            "Transformer-2-FeedForward-Add ( (None, None, 768)    0           Transformer-2-MultiHeadSelfAttent\n",
            "                                                                 Transformer-2-FeedForward-Dropout\n",
            "__________________________________________________________________________________________________\n",
            "Transformer-2-FeedForward-Norm  (None, None, 768)    1536        Transformer-2-FeedForward-Add[0][\n",
            "__________________________________________________________________________________________________\n",
            "Transformer-3-MultiHeadSelfAtte (None, None, 768)    2362368     Transformer-2-FeedForward-Norm[0]\n",
            "                                                                 Transformer-2-FeedForward-Norm[0]\n",
            "                                                                 Transformer-2-FeedForward-Norm[0]\n",
            "__________________________________________________________________________________________________\n",
            "Transformer-3-MultiHeadSelfAtte (None, None, 768)    0           Transformer-3-MultiHeadSelfAttent\n",
            "__________________________________________________________________________________________________\n",
            "Transformer-3-MultiHeadSelfAtte (None, None, 768)    0           Transformer-2-FeedForward-Norm[0]\n",
            "                                                                 Transformer-3-MultiHeadSelfAttent\n",
            "__________________________________________________________________________________________________\n",
            "Transformer-3-MultiHeadSelfAtte (None, None, 768)    1536        Transformer-3-MultiHeadSelfAttent\n",
            "__________________________________________________________________________________________________\n",
            "Transformer-3-FeedForward (Feed (None, None, 768)    4722432     Transformer-3-MultiHeadSelfAttent\n",
            "__________________________________________________________________________________________________\n",
            "Transformer-3-FeedForward-Dropo (None, None, 768)    0           Transformer-3-FeedForward[0][0]  \n",
            "__________________________________________________________________________________________________\n",
            "Transformer-3-FeedForward-Add ( (None, None, 768)    0           Transformer-3-MultiHeadSelfAttent\n",
            "                                                                 Transformer-3-FeedForward-Dropout\n",
            "__________________________________________________________________________________________________\n",
            "Transformer-3-FeedForward-Norm  (None, None, 768)    1536        Transformer-3-FeedForward-Add[0][\n",
            "__________________________________________________________________________________________________\n",
            "Transformer-4-MultiHeadSelfAtte (None, None, 768)    2362368     Transformer-3-FeedForward-Norm[0]\n",
            "                                                                 Transformer-3-FeedForward-Norm[0]\n",
            "                                                                 Transformer-3-FeedForward-Norm[0]\n",
            "__________________________________________________________________________________________________\n",
            "Transformer-4-MultiHeadSelfAtte (None, None, 768)    0           Transformer-4-MultiHeadSelfAttent\n",
            "__________________________________________________________________________________________________\n",
            "Transformer-4-MultiHeadSelfAtte (None, None, 768)    0           Transformer-3-FeedForward-Norm[0]\n",
            "                                                                 Transformer-4-MultiHeadSelfAttent\n",
            "__________________________________________________________________________________________________\n",
            "Transformer-4-MultiHeadSelfAtte (None, None, 768)    1536        Transformer-4-MultiHeadSelfAttent\n",
            "__________________________________________________________________________________________________\n",
            "Transformer-4-FeedForward (Feed (None, None, 768)    4722432     Transformer-4-MultiHeadSelfAttent\n",
            "__________________________________________________________________________________________________\n",
            "Transformer-4-FeedForward-Dropo (None, None, 768)    0           Transformer-4-FeedForward[0][0]  \n",
            "__________________________________________________________________________________________________\n",
            "Transformer-4-FeedForward-Add ( (None, None, 768)    0           Transformer-4-MultiHeadSelfAttent\n",
            "                                                                 Transformer-4-FeedForward-Dropout\n",
            "__________________________________________________________________________________________________\n",
            "Transformer-4-FeedForward-Norm  (None, None, 768)    1536        Transformer-4-FeedForward-Add[0][\n",
            "__________________________________________________________________________________________________\n",
            "Transformer-5-MultiHeadSelfAtte (None, None, 768)    2362368     Transformer-4-FeedForward-Norm[0]\n",
            "                                                                 Transformer-4-FeedForward-Norm[0]\n",
            "                                                                 Transformer-4-FeedForward-Norm[0]\n",
            "__________________________________________________________________________________________________\n",
            "Transformer-5-MultiHeadSelfAtte (None, None, 768)    0           Transformer-5-MultiHeadSelfAttent\n",
            "__________________________________________________________________________________________________\n",
            "Transformer-5-MultiHeadSelfAtte (None, None, 768)    0           Transformer-4-FeedForward-Norm[0]\n",
            "                                                                 Transformer-5-MultiHeadSelfAttent\n",
            "__________________________________________________________________________________________________\n",
            "Transformer-5-MultiHeadSelfAtte (None, None, 768)    1536        Transformer-5-MultiHeadSelfAttent\n",
            "__________________________________________________________________________________________________\n",
            "Transformer-5-FeedForward (Feed (None, None, 768)    4722432     Transformer-5-MultiHeadSelfAttent\n",
            "__________________________________________________________________________________________________\n",
            "Transformer-5-FeedForward-Dropo (None, None, 768)    0           Transformer-5-FeedForward[0][0]  \n",
            "__________________________________________________________________________________________________\n",
            "Transformer-5-FeedForward-Add ( (None, None, 768)    0           Transformer-5-MultiHeadSelfAttent\n",
            "                                                                 Transformer-5-FeedForward-Dropout\n",
            "__________________________________________________________________________________________________\n",
            "Transformer-5-FeedForward-Norm  (None, None, 768)    1536        Transformer-5-FeedForward-Add[0][\n",
            "__________________________________________________________________________________________________\n",
            "Transformer-6-MultiHeadSelfAtte (None, None, 768)    2362368     Transformer-5-FeedForward-Norm[0]\n",
            "                                                                 Transformer-5-FeedForward-Norm[0]\n",
            "                                                                 Transformer-5-FeedForward-Norm[0]\n",
            "__________________________________________________________________________________________________\n",
            "Transformer-6-MultiHeadSelfAtte (None, None, 768)    0           Transformer-6-MultiHeadSelfAttent\n",
            "__________________________________________________________________________________________________\n",
            "Transformer-6-MultiHeadSelfAtte (None, None, 768)    0           Transformer-5-FeedForward-Norm[0]\n",
            "                                                                 Transformer-6-MultiHeadSelfAttent\n",
            "__________________________________________________________________________________________________\n",
            "Transformer-6-MultiHeadSelfAtte (None, None, 768)    1536        Transformer-6-MultiHeadSelfAttent\n",
            "__________________________________________________________________________________________________\n",
            "Transformer-6-FeedForward (Feed (None, None, 768)    4722432     Transformer-6-MultiHeadSelfAttent\n",
            "__________________________________________________________________________________________________\n",
            "Transformer-6-FeedForward-Dropo (None, None, 768)    0           Transformer-6-FeedForward[0][0]  \n",
            "__________________________________________________________________________________________________\n",
            "Transformer-6-FeedForward-Add ( (None, None, 768)    0           Transformer-6-MultiHeadSelfAttent\n",
            "                                                                 Transformer-6-FeedForward-Dropout\n",
            "__________________________________________________________________________________________________\n",
            "Transformer-6-FeedForward-Norm  (None, None, 768)    1536        Transformer-6-FeedForward-Add[0][\n",
            "__________________________________________________________________________________________________\n",
            "Transformer-7-MultiHeadSelfAtte (None, None, 768)    2362368     Transformer-6-FeedForward-Norm[0]\n",
            "                                                                 Transformer-6-FeedForward-Norm[0]\n",
            "                                                                 Transformer-6-FeedForward-Norm[0]\n",
            "__________________________________________________________________________________________________\n",
            "Transformer-7-MultiHeadSelfAtte (None, None, 768)    0           Transformer-7-MultiHeadSelfAttent\n",
            "__________________________________________________________________________________________________\n",
            "Transformer-7-MultiHeadSelfAtte (None, None, 768)    0           Transformer-6-FeedForward-Norm[0]\n",
            "                                                                 Transformer-7-MultiHeadSelfAttent\n",
            "__________________________________________________________________________________________________\n",
            "Transformer-7-MultiHeadSelfAtte (None, None, 768)    1536        Transformer-7-MultiHeadSelfAttent\n",
            "__________________________________________________________________________________________________\n",
            "Transformer-7-FeedForward (Feed (None, None, 768)    4722432     Transformer-7-MultiHeadSelfAttent\n",
            "__________________________________________________________________________________________________\n",
            "Transformer-7-FeedForward-Dropo (None, None, 768)    0           Transformer-7-FeedForward[0][0]  \n",
            "__________________________________________________________________________________________________\n",
            "Transformer-7-FeedForward-Add ( (None, None, 768)    0           Transformer-7-MultiHeadSelfAttent\n",
            "                                                                 Transformer-7-FeedForward-Dropout\n",
            "__________________________________________________________________________________________________\n",
            "Transformer-7-FeedForward-Norm  (None, None, 768)    1536        Transformer-7-FeedForward-Add[0][\n",
            "__________________________________________________________________________________________________\n",
            "Transformer-8-MultiHeadSelfAtte (None, None, 768)    2362368     Transformer-7-FeedForward-Norm[0]\n",
            "                                                                 Transformer-7-FeedForward-Norm[0]\n",
            "                                                                 Transformer-7-FeedForward-Norm[0]\n",
            "__________________________________________________________________________________________________\n",
            "Transformer-8-MultiHeadSelfAtte (None, None, 768)    0           Transformer-8-MultiHeadSelfAttent\n",
            "__________________________________________________________________________________________________\n",
            "Transformer-8-MultiHeadSelfAtte (None, None, 768)    0           Transformer-7-FeedForward-Norm[0]\n",
            "                                                                 Transformer-8-MultiHeadSelfAttent\n",
            "__________________________________________________________________________________________________\n",
            "Transformer-8-MultiHeadSelfAtte (None, None, 768)    1536        Transformer-8-MultiHeadSelfAttent\n",
            "__________________________________________________________________________________________________\n",
            "Transformer-8-FeedForward (Feed (None, None, 768)    4722432     Transformer-8-MultiHeadSelfAttent\n",
            "__________________________________________________________________________________________________\n",
            "Transformer-8-FeedForward-Dropo (None, None, 768)    0           Transformer-8-FeedForward[0][0]  \n",
            "__________________________________________________________________________________________________\n",
            "Transformer-8-FeedForward-Add ( (None, None, 768)    0           Transformer-8-MultiHeadSelfAttent\n",
            "                                                                 Transformer-8-FeedForward-Dropout\n",
            "__________________________________________________________________________________________________\n",
            "Transformer-8-FeedForward-Norm  (None, None, 768)    1536        Transformer-8-FeedForward-Add[0][\n",
            "__________________________________________________________________________________________________\n",
            "Transformer-9-MultiHeadSelfAtte (None, None, 768)    2362368     Transformer-8-FeedForward-Norm[0]\n",
            "                                                                 Transformer-8-FeedForward-Norm[0]\n",
            "                                                                 Transformer-8-FeedForward-Norm[0]\n",
            "__________________________________________________________________________________________________\n",
            "Transformer-9-MultiHeadSelfAtte (None, None, 768)    0           Transformer-9-MultiHeadSelfAttent\n",
            "__________________________________________________________________________________________________\n",
            "Transformer-9-MultiHeadSelfAtte (None, None, 768)    0           Transformer-8-FeedForward-Norm[0]\n",
            "                                                                 Transformer-9-MultiHeadSelfAttent\n",
            "__________________________________________________________________________________________________\n",
            "Transformer-9-MultiHeadSelfAtte (None, None, 768)    1536        Transformer-9-MultiHeadSelfAttent\n",
            "__________________________________________________________________________________________________\n",
            "Transformer-9-FeedForward (Feed (None, None, 768)    4722432     Transformer-9-MultiHeadSelfAttent\n",
            "__________________________________________________________________________________________________\n",
            "Transformer-9-FeedForward-Dropo (None, None, 768)    0           Transformer-9-FeedForward[0][0]  \n",
            "__________________________________________________________________________________________________\n",
            "Transformer-9-FeedForward-Add ( (None, None, 768)    0           Transformer-9-MultiHeadSelfAttent\n",
            "                                                                 Transformer-9-FeedForward-Dropout\n",
            "__________________________________________________________________________________________________\n",
            "Transformer-9-FeedForward-Norm  (None, None, 768)    1536        Transformer-9-FeedForward-Add[0][\n",
            "__________________________________________________________________________________________________\n",
            "Transformer-10-MultiHeadSelfAtt (None, None, 768)    2362368     Transformer-9-FeedForward-Norm[0]\n",
            "                                                                 Transformer-9-FeedForward-Norm[0]\n",
            "                                                                 Transformer-9-FeedForward-Norm[0]\n",
            "__________________________________________________________________________________________________\n",
            "Transformer-10-MultiHeadSelfAtt (None, None, 768)    0           Transformer-10-MultiHeadSelfAtten\n",
            "__________________________________________________________________________________________________\n",
            "Transformer-10-MultiHeadSelfAtt (None, None, 768)    0           Transformer-9-FeedForward-Norm[0]\n",
            "                                                                 Transformer-10-MultiHeadSelfAtten\n",
            "__________________________________________________________________________________________________\n",
            "Transformer-10-MultiHeadSelfAtt (None, None, 768)    1536        Transformer-10-MultiHeadSelfAtten\n",
            "__________________________________________________________________________________________________\n",
            "Transformer-10-FeedForward (Fee (None, None, 768)    4722432     Transformer-10-MultiHeadSelfAtten\n",
            "__________________________________________________________________________________________________\n",
            "Transformer-10-FeedForward-Drop (None, None, 768)    0           Transformer-10-FeedForward[0][0] \n",
            "__________________________________________________________________________________________________\n",
            "Transformer-10-FeedForward-Add  (None, None, 768)    0           Transformer-10-MultiHeadSelfAtten\n",
            "                                                                 Transformer-10-FeedForward-Dropou\n",
            "__________________________________________________________________________________________________\n",
            "Transformer-10-FeedForward-Norm (None, None, 768)    1536        Transformer-10-FeedForward-Add[0]\n",
            "__________________________________________________________________________________________________\n",
            "Transformer-11-MultiHeadSelfAtt (None, None, 768)    2362368     Transformer-10-FeedForward-Norm[0\n",
            "                                                                 Transformer-10-FeedForward-Norm[0\n",
            "                                                                 Transformer-10-FeedForward-Norm[0\n",
            "__________________________________________________________________________________________________\n",
            "Transformer-11-MultiHeadSelfAtt (None, None, 768)    0           Transformer-11-MultiHeadSelfAtten\n",
            "__________________________________________________________________________________________________\n",
            "Transformer-11-MultiHeadSelfAtt (None, None, 768)    0           Transformer-10-FeedForward-Norm[0\n",
            "                                                                 Transformer-11-MultiHeadSelfAtten\n",
            "__________________________________________________________________________________________________\n",
            "Transformer-11-MultiHeadSelfAtt (None, None, 768)    1536        Transformer-11-MultiHeadSelfAtten\n",
            "__________________________________________________________________________________________________\n",
            "Transformer-11-FeedForward (Fee (None, None, 768)    4722432     Transformer-11-MultiHeadSelfAtten\n",
            "__________________________________________________________________________________________________\n",
            "Transformer-11-FeedForward-Drop (None, None, 768)    0           Transformer-11-FeedForward[0][0] \n",
            "__________________________________________________________________________________________________\n",
            "Transformer-11-FeedForward-Add  (None, None, 768)    0           Transformer-11-MultiHeadSelfAtten\n",
            "                                                                 Transformer-11-FeedForward-Dropou\n",
            "__________________________________________________________________________________________________\n",
            "Transformer-11-FeedForward-Norm (None, None, 768)    1536        Transformer-11-FeedForward-Add[0]\n",
            "__________________________________________________________________________________________________\n",
            "bidirectional (Bidirectional)   (None, 256)          689664      Transformer-11-FeedForward-Norm[0\n",
            "__________________________________________________________________________________________________\n",
            "dense (Dense)                   (None, 12)           3084        bidirectional[0][0]              \n",
            "__________________________________________________________________________________________________\n",
            "activation (Activation)         (None, 12)           0           dense[0][0]                      \n",
            "==================================================================================================\n",
            "Total params: 102,369,804\n",
            "Trainable params: 692,748\n",
            "Non-trainable params: 101,677,056\n",
            "__________________________________________________________________________________________________\n"
          ]
        },
        {
          "output_type": "stream",
          "name": "stdout",
          "text": [
            "Epoch 1/5\n",
            "2551/2551 [==============================] - 889s 348ms/step - loss: 0.3848 - accuracy: 0.8765 - val_loss: 0.3112 - val_accuracy: 0.8997\n",
            "Epoch 2/5\n",
            "2551/2551 [==============================] - 882s 346ms/step - loss: 0.2945 - accuracy: 0.9039 - val_loss: 0.2965 - val_accuracy: 0.9050\n",
            "Epoch 3/5\n",
            "2551/2551 [==============================] - 883s 346ms/step - loss: 0.2526 - accuracy: 0.9172 - val_loss: 0.2847 - val_accuracy: 0.9092\n",
            "Epoch 4/5\n",
            "2551/2551 [==============================] - 885s 347ms/step - loss: 0.2208 - accuracy: 0.9264 - val_loss: 0.2911 - val_accuracy: 0.9096\n",
            "Epoch 5/5\n",
            "2551/2551 [==============================] - 890s 349ms/step - loss: 0.1966 - accuracy: 0.9343 - val_loss: 0.2965 - val_accuracy: 0.9090\n"
          ]
        },
        {
          "output_type": "stream",
          "name": "stderr",
          "text": [
            "2021-09-18 12:38:58,014 [INFO] kashgari - model saved to /content/drive/MyDrive/08文章辨識資料/Model/bert_model_ver4\n"
          ]
        },
        {
          "output_type": "execute_result",
          "data": {
            "application/vnd.google.colaboratory.intrinsic+json": {
              "type": "string"
            },
            "text/plain": [
              "'/content/drive/MyDrive/08文章辨識資料/Model/bert_model_ver4'"
            ]
          },
          "metadata": {},
          "execution_count": 13
        }
      ]
    },
    {
      "cell_type": "code",
      "metadata": {
        "id": "Qw6GUs_7k4OT",
        "colab": {
          "base_uri": "https://localhost:8080/",
          "height": 573
        },
        "outputId": "af52097f-5a1d-4919-f3a1-8d567ee8cd9a"
      },
      "source": [
        "def plot_train_hist(history, name):\n",
        "    \"\"\"\n",
        "    This function plots the training history of the model.\n",
        "    ---\n",
        "    Input:\n",
        "    history (object): history of the model according to fit() method.\n",
        "    name (str): Name of the model\n",
        "    \n",
        "    Output:\n",
        "    Two figures that show the history of the accuracy and history of the loss\n",
        "    \"\"\"\n",
        "    # Summarize history for accuracy\n",
        "    plt.plot(history.history['accuracy'])\n",
        "    plt.plot(history.history['val_accuracy'])\n",
        "    plt.title(f'{name} Accuracy')\n",
        "    plt.ylabel('accuracy')\n",
        "    plt.xlabel('epoch')\n",
        "    plt.legend(['train', 'test'], loc='upper left')\n",
        "    plt.show()\n",
        "    \n",
        "    # Summarize history for loss\n",
        "    plt.plot(history.history['loss'])\n",
        "    plt.plot(history.history['val_loss'])\n",
        "    plt.title(f'{name} Loss')\n",
        "    plt.ylabel('loss')\n",
        "    plt.xlabel('epoch')\n",
        "    plt.legend(['train', 'test'], loc='upper left')\n",
        "    plt.show()\n",
        "plot_train_hist(bert_model_history, \"BERT\")"
      ],
      "execution_count": null,
      "outputs": [
        {
          "output_type": "display_data",
          "data": {
            "image/png": "[encoded data removed]",
            "text/plain": [
              "<Figure size 432x288 with 1 Axes>"
            ]
          },
          "metadata": {
            "needs_background": "light"
          }
        },
        {
          "output_type": "display_data",
          "data": {
            "image/png": "[encoded data removed]",
            "text/plain": [
              "<Figure size 432x288 with 1 Axes>"
            ]
          },
          "metadata": {
            "needs_background": "light"
          }
        }
      ]
    },
    {
      "cell_type": "code",
      "metadata": {
        "id": "ZSYtHzXEk6cS",
        "colab": {
          "base_uri": "https://localhost:8080/"
        },
        "outputId": "1895b3a1-9f58-4507-d9c0-9613a31e7be0"
      },
      "source": [
        "bert_model.evaluate(X_test, y_test)"
      ],
      "execution_count": null,
      "outputs": [
        {
          "output_type": "stream",
          "name": "stderr",
          "text": [
            "2021-09-18 12:39:17,427 [WARNING] kashgari - Sequence length is None, will use the max embedding seq length, which is 512\n",
            "2021-09-18 12:39:19,352 [DEBUG] kashgari - predict input shape (2, 54427, 512) x: \n",
            "(array([[ 101, 3204, 1119, ...,    0,    0,    0],\n",
            "       [ 101,  704, 6349, ...,    0,    0,    0],\n",
            "       [ 101, 5474, 2682, ...,    0,    0,    0],\n",
            "       ...,\n",
            "       [ 101, 7865, 7871, ...,    0,    0,    0],\n",
            "       [ 101, 4707, 1957, ...,    0,    0,    0],\n",
            "       [ 101,  924, 5397, ...,    0,    0,    0]], dtype=int32), array([[0, 0, 0, ..., 0, 0, 0],\n",
            "       [0, 0, 0, ..., 0, 0, 0],\n",
            "       [0, 0, 0, ..., 0, 0, 0],\n",
            "       ...,\n",
            "       [0, 0, 0, ..., 0, 0, 0],\n",
            "       [0, 0, 0, ..., 0, 0, 0],\n",
            "       [0, 0, 0, ..., 0, 0, 0]], dtype=int32))\n",
            "2021-09-18 12:59:05,737 [DEBUG] kashgari - predict output shape (54427, 12)\n",
            "2021-09-18 12:59:05,782 [DEBUG] kashgari - predict output argmax: [1 4 0 ... 2 1 2]\n"
          ]
        },
        {
          "output_type": "stream",
          "name": "stdout",
          "text": [
            "              precision    recall  f1-score   support\n",
            "\n",
            "         ACG     0.9024    0.9405    0.9210      6200\n",
            "          娛樂     0.9531    0.8968    0.9241      8308\n",
            "          情感     0.6667    0.5125    0.5795       160\n",
            "          教育     0.9190    0.9300    0.9245      5672\n",
            "          時事     0.8947    0.8980    0.8964      5717\n",
            "          生活     0.9083    0.8867    0.8974      5074\n",
            "          科技     0.8966    0.8986    0.8976      8569\n",
            "          職場     0.6790    0.7775    0.7249       400\n",
            "          藝文     0.5540    0.8500    0.6708       320\n",
            "          議題     0.5272    0.4850    0.5052       200\n",
            "          財經     0.8747    0.8721    0.8734      5825\n",
            "          運動     0.9467    0.9564    0.9515      7982\n",
            "\n",
            "    accuracy                         0.9070     54427\n",
            "   macro avg     0.8102    0.8253    0.8139     54427\n",
            "weighted avg     0.9085    0.9070    0.9073     54427\n",
            "\n"
          ]
        },
        {
          "output_type": "execute_result",
          "data": {
            "text/plain": [
              "{'detail': {'ACG': {'f1-score': 0.9210235349865741,\n",
              "   'precision': 0.9023522129371712,\n",
              "   'recall': 0.9404838709677419,\n",
              "   'support': 6200},\n",
              "  'accuracy': 0.9070130633692837,\n",
              "  'macro avg': {'f1-score': 0.813854816956732,\n",
              "   'precision': 0.8101881283342983,\n",
              "   'recall': 0.8253442328924606,\n",
              "   'support': 54427},\n",
              "  'weighted avg': {'f1-score': 0.9072972910763178,\n",
              "   'precision': 0.9084536014849715,\n",
              "   'recall': 0.9070130633692837,\n",
              "   'support': 54427},\n",
              "  '娛樂': {'f1-score': 0.9240977303733102,\n",
              "   'precision': 0.9530570478383218,\n",
              "   'recall': 0.8968464130958113,\n",
              "   'support': 8308},\n",
              "  '情感': {'f1-score': 0.5795053003533568,\n",
              "   'precision': 0.6666666666666666,\n",
              "   'recall': 0.5125,\n",
              "   'support': 160},\n",
              "  '教育': {'f1-score': 0.9244654749386612,\n",
              "   'precision': 0.9189895470383276,\n",
              "   'recall': 0.9300070521861777,\n",
              "   'support': 5672},\n",
              "  '時事': {'f1-score': 0.8963771278917503,\n",
              "   'precision': 0.8947368421052632,\n",
              "   'recall': 0.8980234388665383,\n",
              "   'support': 5717},\n",
              "  '生活': {'f1-score': 0.897377081878927,\n",
              "   'precision': 0.9083383807793257,\n",
              "   'recall': 0.8866771777690186,\n",
              "   'support': 5074},\n",
              "  '科技': {'f1-score': 0.897592819257446,\n",
              "   'precision': 0.8965999068467629,\n",
              "   'recall': 0.8985879332477535,\n",
              "   'support': 8569},\n",
              "  '職場': {'f1-score': 0.7249417249417248,\n",
              "   'precision': 0.6790393013100436,\n",
              "   'recall': 0.7775,\n",
              "   'support': 400},\n",
              "  '藝文': {'f1-score': 0.6707768187422934,\n",
              "   'precision': 0.5539714867617108,\n",
              "   'recall': 0.85,\n",
              "   'support': 320},\n",
              "  '議題': {'f1-score': 0.5052083333333334,\n",
              "   'precision': 0.5271739130434783,\n",
              "   'recall': 0.485,\n",
              "   'support': 200},\n",
              "  '財經': {'f1-score': 0.8733774606722255,\n",
              "   'precision': 0.8746556473829201,\n",
              "   'recall': 0.8721030042918455,\n",
              "   'support': 5825},\n",
              "  '運動': {'f1-score': 0.9515143961111804,\n",
              "   'precision': 0.9466765873015873,\n",
              "   'recall': 0.9564019042846404,\n",
              "   'support': 7982}},\n",
              " 'f1-score': 0.9072972910763178,\n",
              " 'precision': 0.9084536014849715,\n",
              " 'recall': 0.9070130633692837,\n",
              " 'support': 54427}"
            ]
          },
          "metadata": {},
          "execution_count": 15
        }
      ]
    },
    {
      "cell_type": "code",
      "metadata": {
        "id": "UKEiJrLAABpL",
        "colab": {
          "base_uri": "https://localhost:8080/"
        },
        "outputId": "bfe7948e-cdc0-46e9-eedd-e25ad28e1804"
      },
      "source": [
        "bert_model = BiGRU_Model.load_model('/content/drive/MyDrive/08文章辨識資料/Model/bert_model_ver4')"
      ],
      "execution_count": null,
      "outputs": [
        {
          "output_type": "stream",
          "name": "stderr",
          "text": [
            "2021-09-18 13:15:16,741 [DEBUG] kashgari - ------------------------------------------------\n",
            "2021-09-18 13:15:16,743 [DEBUG] kashgari - Loaded transformer model's vocab\n",
            "2021-09-18 13:15:16,745 [DEBUG] kashgari - config_path       : /content/drive/MyDrive/08文章辨識資料/Model/BERT/bert_config.json\n",
            "2021-09-18 13:15:16,747 [DEBUG] kashgari - vocab_path      : /content/drive/MyDrive/08文章辨識資料/Model/BERT/vocab.txt\n",
            "2021-09-18 13:15:16,748 [DEBUG] kashgari - checkpoint_path : /content/drive/MyDrive/08文章辨識資料/Model/BERT/bert_model.ckpt\n",
            "2021-09-18 13:15:16,751 [DEBUG] kashgari - Top 50 words    : ['[PAD]', '[unused1]', '[unused2]', '[unused3]', '[unused4]', '[unused5]', '[unused6]', '[unused7]', '[unused8]', '[unused9]', '[unused10]', '[unused11]', '[unused12]', '[unused13]', '[unused14]', '[unused15]', '[unused16]', '[unused17]', '[unused18]', '[unused19]', '[unused20]', '[unused21]', '[unused22]', '[unused23]', '[unused24]', '[unused25]', '[unused26]', '[unused27]', '[unused28]', '[unused29]', '[unused30]', '[unused31]', '[unused32]', '[unused33]', '[unused34]', '[unused35]', '[unused36]', '[unused37]', '[unused38]', '[unused39]', '[unused40]', '[unused41]', '[unused42]', '[unused43]', '[unused44]', '[unused45]', '[unused46]', '[unused47]', '[unused48]', '[unused49]']\n",
            "2021-09-18 13:15:16,752 [DEBUG] kashgari - ------------------------------------------------\n"
          ]
        }
      ]
    },
    {
      "cell_type": "code",
      "metadata": {
        "id": "FScao1Q8SeXI"
      },
      "source": [
        "outside_test = '哇！珍妮佛羅培茲！天后驚傳與A-Rod斬斷3年情 畢柏印地安人開幕戰先發　賽揚獎加持只加薪160萬 富邦勇士Q3暴衝逆轉險勝夢想家 最快明天例行賽封王 【中職開幕戰】總統蔡英文坐觀眾席看獅象大戰　今年統一冠軍戒長這樣 WTT決賽宰南韓2連冠　林昀儒鄭怡靜桌球混雙世界第1挺進第2周 尷尬了！巴西裁判情急場上撇尿　恰被錄影直擊「小瀑布」 世界第2梅迪耶夫服了　稱喬帥拿400周球王也沒問題 台灣拳擊職業化開步走　立勝盃全國拳擊聯賽今舉行 不強打疫苗不開放國際觀眾　IOC妥協全照日本意思 球員錦標賽第2回合　旅美潘政琮+8提前淘汰 昔日明星中鋒爛到被嫌！美媒爆料：湖人對賈索感到失望 F1法拉利新車紅配綠　引擎蓋廣告三條線尷尬了 紙風車《雨馬》總彩排　 「大隻馬」現身打破劇場框架 國片大爆發！去年票房市佔率破新高　蘇貞昌因李安一句話要效仿紐西蘭 【百萬低利貸】文化部啟動文創20億信貸　快速通關！最長5年利息補貼 故宮館藏走出櫥窗　躍上精品舞台！ 《九份往事》半世紀前風景躍然紙上　市長室迎賓區辦攝影展找回憶 【內閣人事】行政院宣布高流董事李靜慧接任文化部政次　盼推動藝文產業永續發展 街頭藝人悲歌——授權侵權的兩難（章忠信） 新北14位國家級工藝師聯展秀美技　珊瑚、毫芒雕刻嘆為觀止 兩廳院邀藝術家駐館！打造新世代劇場　#MeToo成創作起點 孟克不朽名畫《吶喊》暗藏密碼　「只有瘋子才畫得出來」 台灣最高地景藝術節梨山開幕　海拔2千賞部落美學 文大圖書館出版部萬本圖書清倉　50元銅板價拍賣！下殺不到一折 推動客語文化　客傳會與OTT合作發展客家電影 【獨家】文創設計師自創圖騰遭盜用4年　阿里山鄉長侵權在先竟嗆：要告去告 挑戰百萬年薪　國泰人壽招募儲備幹部 政院將討論「勞工職災保險及保護法」　一張表帶你看修法重點 「勞工職災保險法」有望周四政院拍板　4人以下公司皆須納保 2.2萬家資本額逾1億元企業當心！違反輪班、例假出勤　5/1起最重罰150萬元 全台43%女性　曾遇職場性騷  婦團調查　逾4成是上司老闆下手 中高齡就業推動小組委員　應加重中高齡受雇者代表人數 搶金融業金飯碗機會來了　合庫銀今年招募400人年薪上看75萬 台積電聯發科也受害！中資滲台雙倍年薪挖角數百工程師　智鈊、芯道負責人交保 趨勢科技啟動年度徵才計劃　暑期實習同步招生 加入「護國神山」機會來了！台積電校園徵才本周起跑 想捧金飯碗注意！　滙豐未來5年將在亞洲增聘逾5000人 【年後轉職】北市辦徵才釋468職缺　最高薪80K 微軟再徵百名研發人才　推動台灣成為全球技術研發重要據點 原民運19日羅東文化工場開幕　林姿妙視察防疫消毒作業 【藻礁攻防】立委赴大潭考察　經部環團交鋒！潘忠政：只盼開聽證會 募資85萬號召13義工　登山女神詹喬愉發起淨山 騎鐵馬打卡集章　抽5萬現金 有害空污物管制從72種減少到22種　環團籲環保署講清楚 【藻礁攻防】麥寮蓋天然氣接收站解大潭難題？環團力挺：護礁又護肺 【狼醫疑雲】熟識學長竟伸狼爪　專家：加害者利用信任感該被譴責 收性騷訊息「想摸妳奶」　黃捷：不排除提告 3千公尺高山上唯一女力救援　姚岱吟中士：從不放棄挑戰自我 國際奧委會挨批逃避人權議題　IOC主席：抵制北京冬奧無用 誇張！打了10年比賽才發現　印尼女排國手竟是男人 歐洲議會宣布歐盟為LGBTIQ自由區　波蘭仍推反同法案 【跨性別專題】尋找身分35年　跨女被當撞邪送中驅魔 監委之子副教授性侵女同志今出庭　被害女怒揭校方冷處理還讓升等 孫女為腦退化奶奶當全職看護　隔代照顧凸顯香港長照漏洞 一股力量推去撞牆！婦走路突踩空　就醫抓到｢魔神仔｣ 新北補助電動機車車方案出爐　汰舊換新最高補助1萬9 【遊彰化】跟著喵星人公仔　散步到扇形車庫 國軍首座軍服「直營店」今開幕　全台設15店面可用電商、APP下單 台東部落分享廚房首發團　吃貨縣長饒司機領路體驗魯凱族傳統美食 清明連假湧國旅潮　電商飯店住宿券5折起 Häagen-Dazs「蜜糖派對組」融化少女心　101忠狗、維尼熊造型初亮相 武漢肺炎疫情趨緩　桃園6家醫院調降自費篩檢費用 哈日族快換起來等解封！換5萬台幣多了6千元 星光花火、藍眼淚接力　離島旅遊旺季開跑航空業推限量優惠 全台最早、易抵達賞螢聖地！　花蓮平森園區螢光盛會浪漫開幕 宅經濟發酵 烘焙設備展備貨多2倍 帛琉旅遊泡泡　首發團最快2周成行 【春夏潮流筆記】卡其褲帥度超越兩世紀　英軍制服變身經典聖品 【越南美食】百年「飛機河粉」插旗台中新光　連續20天免費送千份炸雞 三芝三生步道吉野櫻綻放　粉白色花海妝點白色情人節 2019波爾多期酒　均價創近年新低　乾燥氣候孕育豐富果香　值得入手 超前部署新南向政策　清大今成立印度顧問團 政府帶頭，由社區來編寫家鄉英文學習教材 【退休再進修】都是在職生，年長的沒被給好臉色 防疫成果亮眼+反送中衝擊　港生個人申請來台大增1169人 全額獎學金5.4萬誘因大　這所私大強推VR、直播課！保證就業 一位新銳導演的心聲：擺脫電影輔導金的束縛 【全面治港】京官15日香港座談扮聽意見　特首：培養「愛國者」從教育著手 少子化衝擊！國中會考僅20.2萬人報名創新低　高中職9年少近20萬學生 范疇專欄：台灣可成就更高　但需要「雙語國力」 中國孔子學院遭歐美封殺　僑委會布局海外華語文據點 古琴梅庵派5代師東華大學開課　通識教育民眾皆可學 推動偏鄉小學科普教育 花蓮太陽能推廣中心成立 搞定小孩上學後的午睡！專家三個小Tips提醒 一代茶王不藏私　疫下開班　傳承港式奶茶文化 讓飼主與志工更了解毛孩　竹縣家畜所邀動物專家開課 耗水費怎麼算？王美花：循環水、傳產科技業計算方式持續評估 美白科技大躍進 研究發現NMN冰晶番茄有效對抗肌膚傷害 【3/17總疫報】世衛：建議繼續使用AZ疫苗　波蘭單日逾2.5萬例確診全國部分封鎖 考生看過來！新加坡研究：午睡能改善學習與記憶力 獨步全球！調查局4年磨一劍　檜木DNA資料庫讓山老鼠現形 台灣缺水拉警報　外資示警半導體、面板、PCB產業最受衝擊 台達電加入RE100組織　目標2030年全球廠辦100%使用再生能源 健康大數據有助精準防疫與公衛（陳保中、林先和、林亮瑜、魏志阜） 【政院組改】數位發展部最快下半年成立！首位部長唐鳳、郭耀煌呼聲高 研究：武肺疫情期間　醫護人員罹患憂鬱、焦慮及PTSD機率遠高於預期 【311十周年】福島核災十年後仍發現新放射物　料反應爐爆炸產生 【人助自助天助】從三個面向　把水找回來 研究：太陽愈來愈熱　未來地球將缺氧僅剩微生物能活 科技業投資新策略　打造台灣科技產業新廊道 熟女就醫堅持穿雨衣、戴手套　原來是「焦慮症」作祟 【名采】楊索專欄：削廋的靈魂 【名采】張惠菁專欄：家的故事 年輕歌手離去後　要小心模仿效應 兩性作家分析「4種關係最容易讓男人外遇」　網崩潰：太誘人 權權療心室：照顧者奢想的禮物 重度憂鬱自殺有年輕、學子化趨勢　專家：留意這9大症狀 假老友來電「生病需要用錢」　8旬老婦險被騙走70萬養老金 【獨家】機組員檢疫期縮短為5天上周五悄悄上路　違者重罰30萬元 凝聚力量續爭港民主　流亡港人發起《2021香港約章》 內戰10年仍未撼動敘利亞政府　8旬老翁戰火中失去13子女 《紐時》讚台「防疫綠洲」　今年成長率看好　估達4.6% 【港版美麗島】民主派47人保釋案覆核　多3人獲保釋2人須還押 【獨家】聯亞疫苗二期試驗已完成2千人收案　預計周日達標 印尼預告將炸毀非法捕魚外國漁船　有台灣漁船遭扣留調查 屏東人行道驚見男屍　有血跡！竟是鬼祟男打死的 爆炸瞬間曝光！北市疑酒店糾紛尋仇　男丟震撼彈釀1傷 檢察官打擊環保犯罪！卜蜂汙泥、化骨水棄置　追緝財團復原環境 驚！刑事局隊長涉洩密運毒案偵查計畫　檢調搜索複訊10萬交保 桃園農會選舉涉買票　檢調送辦落選人10萬元交保 【遊覽車撞山】死傷慘重主因　資深駕駛研判：疑操作不當與車體強度不足 印度外匯存底躍全球第四高央行囤積美元是主因。 瑞銀預估 大陸今年首季GDP年增率逼近20% 疫情效應全球爆發嬰兒荒，法國出生率探二戰以來新低，大陸新生兒減少15 %。 財管服務有溫度　中信銀連6年獲獎 他全額貸84期買BMW重機　專家曝這樣做免借錢合法騎回家 阿爾發機器人理財　獲頒ISO 27001資訊安全認證 年輕股民最愛金融　玉山金躍存股榜首 年輕人存股排名！金融股打趴台積電　0056居第2名 台股操作　4招耐震心法  最高原則分散風險　善用ETF資產配置 賴正鎰：打房惡果回推購屋族　投客口袋夠深繼續炒 謝哲青推薦理財書　出版社出奇招「買就送1美元發財金」 Fed維持利率不變美股全面翻紅　道瓊漲逾189點創新高 不甩債市風暴！Fed每月購債3兆未加碼　維持零利率 【股市內圈咖啡杯怎挑】以美國10年期公債殖利率看股價 市場錢多到像玩假鈔？戴利歐：布局非美元資產吧 替大戶藏黑盒子搶股　金管會要證交所1個月提檢討報告 投資政策紅利　投信：聚焦中國內部大循環 股市面臨利空測試　類股輪動投資人勿慌 何時完成100%收購中壽？開發金：觀察市況與價格再決定 碩辣椒宣布台日合作　攜手Sparkleling開發美少女系手遊 日漫改編RPG手遊　《勇者鬥惡龍 達伊的大冒險》今年上線 Cosplay女達人「縫」出一片天　考證照開工作坊商機大熱 漫畫圈恐慌！《CCC創作集》補助傳喊停　立委要求續撥以打造台版鬼滅之刃 「向小學全速前進！」漫迷戶外唱蘿莉控聖歌　台大男批「噁宅」！2派網友戰翻 《名偵探柯南》4月全球同步登銀幕　聲優5國語片頭較勁 看好Switch銷量　任天堂喊再創高  新年度遊戲軟體要賣2.5億套 赤燭網路商店上線　返校還願都可玩 遊戲直播侮辱猶太人　熱火雷納德禁賽中加罰140萬 中國人大提議「禁止半夜打電玩」　微博炸裂：可以先管通宵加班嗎？ 科幻射擊新作《先遣戰士》夯　體驗版一周創200萬下載 《要塞英雄》找《糖豆人》助陣！　EPIC宣布收購遊戲開發商Tonic Games MEGA戰鬥哥爆紅十周年　經典港都再現！How哥被約出讚：永遠的英雄 《薩爾達傳說 天空之劍》HD重製版6月上市　支援體感遊玩'\n",
        "outside_test = [list(line) for line in outside_test.replace('\\u3000', '').split(' ')]"
      ],
      "execution_count": null,
      "outputs": []
    },
    {
      "cell_type": "code",
      "metadata": {
        "id": "FWCWlq-aR675",
        "colab": {
          "base_uri": "https://localhost:8080/"
        },
        "outputId": "be818021-f89b-4bd6-8f7e-b0a0bfd5b4bc"
      },
      "source": [
        "outside_test_output=bert_model.predict(outside_test,multi_label_threshold=0.5)"
      ],
      "execution_count": null,
      "outputs": [
        {
          "output_type": "stream",
          "name": "stderr",
          "text": [
            "2021-09-18 13:15:45,895 [WARNING] kashgari - Sequence length is None, will use the max length of the samples, which is 42\n",
            "2021-09-18 13:15:45,905 [DEBUG] kashgari - predict input shape (2, 171, 42) x: \n",
            "(array([[ 101, 1505, 8013, ...,    0,    0,    0],\n",
            "       [ 101, 4525, 3377, ...,    0,    0,    0],\n",
            "       [ 101, 2168, 6930, ...,    0,    0,    0],\n",
            "       ...,\n",
            "       [ 101,  100,  100, ...,    0,    0,    0],\n",
            "       [ 101,  517, 5958, ...,    0,    0,    0],\n",
            "       [ 101, 1921, 4958, ...,    0,    0,    0]], dtype=int32), array([[0, 0, 0, ..., 0, 0, 0],\n",
            "       [0, 0, 0, ..., 0, 0, 0],\n",
            "       [0, 0, 0, ..., 0, 0, 0],\n",
            "       ...,\n",
            "       [0, 0, 0, ..., 0, 0, 0],\n",
            "       [0, 0, 0, ..., 0, 0, 0],\n",
            "       [0, 0, 0, ..., 0, 0, 0]], dtype=int32))\n",
            "2021-09-18 13:15:51,782 [DEBUG] kashgari - predict output shape (171, 12)\n",
            "2021-09-18 13:15:51,785 [DEBUG] kashgari - predict output argmax: [1 2 2 2 2 2 5 2 2 5 2 2 5 1 1 1 4 1 7 4 1 7 6 1 7 6 7 7 4 3 4 4 5 1 1 4 4\n",
            " 0 0 6 0 4 0 7 7 2 3 4 7 6 1 2 5 2 5 5 6 5 1 4 7 0 7 7 3 7 3 7 7 0 4 7 1 7\n",
            " 7 4 5 6 6 6 6 1 6 6 6 6 6 6 4 6 4 6 4 0 2 5 6 5 4 4 0 0 5 5 4 5 4 5 6 6 1\n",
            " 3 1 6 4 4 5 5 4 5 4 5 1 5 5 5 5 7 5 4 4 5 4 4 3 0 0 4 4 4 1 4 4 4 4 4 4 4\n",
            " 4 4 4 4 3 3 3 0 3 6 1 0 1 3 3 2 3 3 3 3 3 3 3]\n"
          ]
        }
      ]
    },
    {
      "cell_type": "code",
      "metadata": {
        "id": "QSaASr8IuoVY"
      },
      "source": [
        "bert_model_result = bert_model.predict(X_test, multi_label_threshold=0.5)"
      ],
      "execution_count": null,
      "outputs": []
    },
    {
      "cell_type": "code",
      "metadata": {
        "id": "fBfGJxczzg2J"
      },
      "source": [
        "X_output = [\"\".join(txt) for txt in X_test]\n",
        "output_df = pd.DataFrame({\"content\":X_output,\"input_id\":y_test,\"output_id\":bert_model_result})\n",
        "output_df[output_df[\"input_id\"]!=output_df[\"output_id\"]]"
      ],
      "execution_count": null,
      "outputs": []
    },
    {
      "cell_type": "code",
      "metadata": {
        "id": "ukzWOO-OCFv6"
      },
      "source": [
        ""
      ],
      "execution_count": null,
      "outputs": []
    },
    {
      "cell_type": "code",
      "metadata": {
        "id": "QHskqiSPGkvA"
      },
      "source": [
        "# 游宏宇給的假資料\n",
        "X_output = [\"\".join(txt) for txt in outside_test]\n",
        "output_df = pd.DataFrame({\"id\":outside_test_output, \"content\":X_output})\n",
        "output_df.head()\n",
        "output_df.to_csv(\"/content/drive/MyDrive/08文章辨識資料/Output/假資料.csv\")\n",
        "\n",
        "# X_test output\n",
        "#X_output = [\"\".join(txt) for txt in X_test]\n",
        "#output_df = pd.DataFrame({\"content\":X_output,\"output_id\":bert_model_result})\n",
        "#output_df.to_csv(\"/content/drive/MyDrive/08文章辨識資料/test_output.csv\")"
      ],
      "execution_count": null,
      "outputs": []
    },
    {
      "cell_type": "code",
      "metadata": {
        "id": "QtjN8qaWGBdJ"
      },
      "source": [
        ""
      ],
      "execution_count": null,
      "outputs": []
    }
  ]
}